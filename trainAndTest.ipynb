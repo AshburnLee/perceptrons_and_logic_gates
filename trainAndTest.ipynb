{
 "cells": [
  {
   "cell_type": "code",
   "execution_count": 6,
   "metadata": {
    "collapsed": true
   },
   "outputs": [],
   "source": [
    "import numpy as np\n",
    "import matplotlib.pyplot as plt\n",
    "import pandas as pd\n",
    "import perceptAsFstLayer as pf\n",
    "import imp\n",
    "imp.reload(pf)\n",
    "import gatesAsSndLayer as gate\n",
    "imp.reload(gate)\n",
    "\n",
    "\"\"\" data preparation \"\"\"\n",
    "# read data\n",
    "data1 = pd.read_csv('iris.data',header=None)\n",
    "col = [\"sepalLength\", \"sepalWidth\", \"petalLength\", \"petalWidth\", \"classes\"]\n",
    "data1.columns = col\n",
    "data2 = data1.copy()\n",
    "\n",
    "# data preparation  X1 and X2 are identical\n",
    "X1,Y1 = pf.XY4setosa(data1)\n",
    "Y2 = pf.XY4virginica(data2)"
   ]
  },
  {
   "cell_type": "code",
   "execution_count": 7,
   "metadata": {},
   "outputs": [
    {
     "name": "stdout",
     "output_type": "stream",
     "text": [
      "What this perceptron has learned:\n",
      "bias: 2.026\n",
      "weights: -0.789, 0.110, 0.732, -0.157\n",
      "What this perceptron has learned:\n",
      "bias: 1.495\n",
      "weights: 0.394, 0.530, -0.710, -1.271\n"
     ]
    }
   ],
   "source": [
    "# training two perceptrons and get weights and bias\n",
    "# w1,b1,w2,b2 change every time you run this script\n",
    "o1, w1, b1 = pf.getO1(X1,Y1)\n",
    "o2, w2, b2 = pf.getO2(X1,Y2)\n",
    "O = pf.buildO(o1,o2)"
   ]
  },
  {
   "cell_type": "code",
   "execution_count": null,
   "metadata": {},
   "outputs": [],
   "source": []
  },
  {
   "cell_type": "code",
   "execution_count": 8,
   "metadata": {
    "collapsed": true
   },
   "outputs": [],
   "source": [
    "# w1 = [ 0.03067999, -0.05959678,  0.00377185,  1.15758503]\n",
    "# b1 = -0.77870086419632112\n",
    "# w2 = [ 0.54352602,  1.45611539, -2.08488996, -3.32841045]\n",
    "# b2 = 8.1341439315539503\n",
    "# ###########\n",
    "# # test on all data\n",
    "# ###########\n",
    "finalOut = gate.groupOutput(O)"
   ]
  },
  {
   "cell_type": "code",
   "execution_count": 9,
   "metadata": {},
   "outputs": [
    {
     "data": {
      "text/plain": [
       "[0, 0, 1]"
      ]
     },
     "execution_count": 9,
     "metadata": {},
     "output_type": "execute_result"
    }
   ],
   "source": [
    "##############\n",
    "# test for a single sample:\n",
    "###############\n",
    "imp.reload(gate)\n",
    "gate.forTestSample(sample=[5.9, 3.0, 5.1, 1.8], w1=w1,b1=b1,w2=w2,b2=b2)"
   ]
  },
  {
   "cell_type": "code",
   "execution_count": 10,
   "metadata": {},
   "outputs": [
    {
     "data": {
      "text/plain": [
       "0.98"
      ]
     },
     "execution_count": 10,
     "metadata": {},
     "output_type": "execute_result"
    }
   ],
   "source": [
    "finalOut[2]\n",
    "147/150"
   ]
  },
  {
   "cell_type": "code",
   "execution_count": 11,
   "metadata": {},
   "outputs": [
    {
     "data": {
      "text/plain": [
       "[[0, 0, 1],\n",
       " [0, 0, 1],\n",
       " [0, 0, 1],\n",
       " [0, 0, 1],\n",
       " [0, 0, 1],\n",
       " [0, 0, 1],\n",
       " [0, 0, 1],\n",
       " [0, 0, 1],\n",
       " [0, 0, 1],\n",
       " [0, 0, 1],\n",
       " [0, 0, 1],\n",
       " [0, 0, 1],\n",
       " [0, 0, 1],\n",
       " [0, 0, 1],\n",
       " [0, 0, 1],\n",
       " [0, 0, 1],\n",
       " [0, 0, 1],\n",
       " [0, 0, 1],\n",
       " [0, 0, 1],\n",
       " [0, 0, 1],\n",
       " [0, 0, 1],\n",
       " [0, 0, 1],\n",
       " [0, 0, 1],\n",
       " [0, 0, 1],\n",
       " [0, 0, 1],\n",
       " [0, 0, 1],\n",
       " [0, 0, 1],\n",
       " [0, 0, 1],\n",
       " [0, 0, 1],\n",
       " [0, 0, 1],\n",
       " [0, 0, 1],\n",
       " [0, 0, 1],\n",
       " [0, 0, 1],\n",
       " [0, 0, 1],\n",
       " [0, 0, 1],\n",
       " [0, 0, 1],\n",
       " [0, 0, 1],\n",
       " [0, 0, 1],\n",
       " [0, 0, 1],\n",
       " [0, 0, 1],\n",
       " [0, 0, 1],\n",
       " [0, 0, 1],\n",
       " [0, 0, 1],\n",
       " [0, 0, 1],\n",
       " [0, 0, 1],\n",
       " [0, 0, 1],\n",
       " [0, 0, 1],\n",
       " [0, 0, 1],\n",
       " [0, 0, 1],\n",
       " [0, 0, 1]]"
      ]
     },
     "execution_count": 11,
     "metadata": {},
     "output_type": "execute_result"
    }
   ],
   "source": [
    "finalOut[100:150]"
   ]
  },
  {
   "cell_type": "code",
   "execution_count": null,
   "metadata": {
    "collapsed": true
   },
   "outputs": [],
   "source": []
  },
  {
   "cell_type": "code",
   "execution_count": null,
   "metadata": {
    "collapsed": true
   },
   "outputs": [],
   "source": []
  },
  {
   "cell_type": "code",
   "execution_count": 12,
   "metadata": {},
   "outputs": [
    {
     "data": {
      "text/plain": [
       "[<matplotlib.lines.Line2D at 0x7f01fa6c6860>]"
      ]
     },
     "execution_count": 12,
     "metadata": {},
     "output_type": "execute_result"
    },
    {
     "data": {
      "image/png": "[encoded data removed]",
      "text/plain": [
       "<matplotlib.figure.Figure at 0x7f02025b4cc0>"
      ]
     },
     "metadata": {},
     "output_type": "display_data"
    }
   ],
   "source": [
    "##########\n",
    "# implemetation logic gates\n",
    "##########\n",
    "x1 = [0,0,1]\n",
    "y1 = [0,1,0]\n",
    "x2 = [1]\n",
    "y2 = [1]\n",
    "import matplotlib.pyplot as plt\n",
    "%matplotlib inline\n",
    "plt.title(\"Gate1\")\n",
    "plt.scatter(x1,y1)\n",
    "plt.scatter(x2,y2,marker='*')\n",
    "\n",
    "xp = [0.5,1]\n",
    "yp = [(-1)*_ + 1.5 for _ in xp]\n",
    "plt.plot(xp,yp)"
   ]
  },
  {
   "cell_type": "code",
   "execution_count": 13,
   "metadata": {},
   "outputs": [
    {
     "data": {
      "text/plain": [
       "(-0.1, 1.1)"
      ]
     },
     "execution_count": 13,
     "metadata": {},
     "output_type": "execute_result"
    },
    {
     "data": {
      "image/png": "[encoded data removed]",
      "text/plain": [
       "<matplotlib.figure.Figure at 0x7f01fa0de400>"
      ]
     },
     "metadata": {},
     "output_type": "display_data"
    }
   ],
   "source": [
    "x1 = [0,1,1]\n",
    "y1 = [0,1,0]\n",
    "x2 = [0]\n",
    "y2 = [1]\n",
    "import matplotlib.pyplot as plt\n",
    "plt.title(\"Gate2\")\n",
    "plt.scatter(x1,y1)\n",
    "plt.scatter(x2,y2,marker='*')\n",
    "\n",
    "xp = [0, 0.5]\n",
    "yp = [_ + 0.5 for _ in xp]\n",
    "plt.plot(xp,yp)\n",
    "plt.xlim(-0.1, 1.1)\n",
    "plt.ylim(-0.1, 1.1)"
   ]
  },
  {
   "cell_type": "code",
   "execution_count": 14,
   "metadata": {},
   "outputs": [
    {
     "data": {
      "text/plain": [
       "(-0.1, 1.1)"
      ]
     },
     "execution_count": 14,
     "metadata": {},
     "output_type": "execute_result"
    },
    {
     "data": {
      "image/png": "[encoded data removed]",
      "text/plain": [
       "<matplotlib.figure.Figure at 0x7f02253320f0>"
      ]
     },
     "metadata": {},
     "output_type": "display_data"
    }
   ],
   "source": [
    "x1 = [0,0,1]\n",
    "y1 = [0,1,1]\n",
    "x2 = [1]\n",
    "y2 = [0]\n",
    "import matplotlib.pyplot as plt\n",
    "plt.title(\"Gate3\")\n",
    "plt.scatter(x1,y1)\n",
    "plt.scatter(x2,y2,marker='*')\n",
    "\n",
    "xp = [0.5, 1]\n",
    "yp = [_ - 0.5 for _ in xp]\n",
    "plt.plot(xp,yp)\n",
    "plt.xlim(-0.1, 1.1)\n",
    "plt.ylim(-0.1, 1.1)"
   ]
  }
 ],
 "metadata": {
  "kernelspec": {
   "display_name": "Python 3",
   "language": "python",
   "name": "python3"
  },
  "language_info": {
   "codemirror_mode": {
    "name": "ipython",
    "version": 3
   },
   "file_extension": ".py",
   "mimetype": "text/x-python",
   "name": "python",
   "nbconvert_exporter": "python",
   "pygments_lexer": "ipython3",
   "version": "3.6.3"
  }
 },
 "nbformat": 4,
 "nbformat_minor": 2
}
